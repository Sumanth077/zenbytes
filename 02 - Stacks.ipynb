{
 "cells": [
  {
   "cell_type": "markdown",
   "metadata": {},
   "source": [
    "# ZenML: Open-source MLOps Framework for reproducible ML pipelines"
   ]
  },
  {
   "cell_type": "markdown",
   "metadata": {},
   "source": [
    "![Test](_assets/Logo/zenml.svg)"
   ]
  },
  {
   "cell_type": "markdown",
   "metadata": {},
   "source": [
    "![Sam](_assets/sam.png)"
   ]
  },
  {
   "cell_type": "code",
   "execution_count": null,
   "metadata": {},
   "outputs": [],
   "source": [
    "from absl import logging as absl_logging\n",
    "import warnings\n",
    "warnings.filterwarnings('ignore')\n",
    "%load_ext autoreload\n",
    "%autoreload 2\n",
    "absl_logging.set_verbosity(-10000)"
   ]
  },
  {
   "cell_type": "markdown",
   "metadata": {},
   "source": [
    "Let's begin by initializing ZenML in our directory. We are going to use a local stack to begin with, for simplicity and then transition to other stacks. This can be achieved in code by executing the following block."
   ]
  },
  {
   "cell_type": "markdown",
   "metadata": {},
   "source": [
    "# Initialize ZenML"
   ]
  },
  {
   "cell_type": "code",
   "execution_count": null,
   "metadata": {
    "scrolled": true
   },
   "outputs": [],
   "source": [
    "!rm -rf .zen\n",
    "!zenml init"
   ]
  },
  {
   "cell_type": "markdown",
   "metadata": {},
   "source": [
    "## The ZenML stack\n",
    "\n",
    "The ZenML stack is a concept that describes the union of Metadata Store, Artifact Store and Orchestrator that will be used for all pipeline runs. When you get started with zenml you start off with a default local stack."
   ]
  },
  {
   "cell_type": "code",
   "execution_count": null,
   "metadata": {},
   "outputs": [],
   "source": [
    "!zenml stack list"
   ]
  },
  {
   "cell_type": "markdown",
   "metadata": {},
   "source": [
    "### The Local Stack\n",
    "\n",
    "You can imagine the local stack to look like this. Within the diagram we show how a generic pipeline interacts with the local stack.\n",
    "\n",
    "![LocalStack](_assets/localstack.png \"LocalStack\")"
   ]
  },
  {
   "cell_type": "code",
   "execution_count": null,
   "metadata": {
    "scrolled": true
   },
   "outputs": [],
   "source": [
    "!zenml stack set local_stack\n",
    "# Let's train within kubeflow pipelines - this will deploy the training pipeline on a Schedule\n",
    "!python run.py"
   ]
  },
  {
   "cell_type": "markdown",
   "metadata": {},
   "source": [
    "We will now use the Kubeflow integration to extend the concept of stacks"
   ]
  },
  {
   "cell_type": "markdown",
   "metadata": {},
   "source": [
    "![All](_assets/evidently+mlflow+discord+kubeflow.png \"All\")"
   ]
  },
  {
   "cell_type": "code",
   "execution_count": null,
   "metadata": {
    "scrolled": true
   },
   "outputs": [],
   "source": [
    "!zenml integration install kubeflow -f"
   ]
  },
  {
   "cell_type": "markdown",
   "metadata": {},
   "source": [
    "### The Kubeflow Pipeline stack\n",
    "\n",
    "Now we want to transition to a kubeflow stack that will look a little bit like this. Note that for kubeflow pipelines we also need a registry where the docker images for each step are registered. \n",
    "\n",
    "![KubeflowStack](_assets/localstack-with-kubeflow-orchestrator.png \"KubeflowStack\")\n",
    "\n",
    "But we have good news! You barely have to do anything to transition."
   ]
  },
  {
   "cell_type": "code",
   "execution_count": null,
   "metadata": {},
   "outputs": [],
   "source": [
    "# You register a container registry with zenml\n",
    "!zenml container-registry register local_registry --type=default --uri=localhost:5000\n",
    "    \n",
    "# You register an orchestrator with zenml\n",
    "!zenml orchestrator register kubeflow_orchestrator --type=kubeflow\n",
    "\n",
    "# Now it all is combined into the local_kubeflow_stack\n",
    "!zenml stack register local_kubeflow_stack \\\n",
    "    -m local_metadata_store \\\n",
    "    -a local_artifact_store \\\n",
    "    -o kubeflow_orchestrator \\\n",
    "    -c local_registry\n",
    "\n",
    "# And we activate the new stack, now all pipelines will be run within this stack\n",
    "!zenml stack set local_kubeflow_stack\n",
    "\n",
    "# Check it out, your new stack is registered\n",
    "!zenml stack list"
   ]
  },
  {
   "cell_type": "markdown",
   "metadata": {},
   "source": [
    "### Starting up your new kubeflow pipelines stack\n",
    "\n",
    "All that is left to do is power up your stack. This is just one more line away. The stack up process might take some time for you. In the background k3d will be creating and starting up a cluster of docker containers to host kubeflow pipelines locally. "
   ]
  },
  {
   "cell_type": "code",
   "execution_count": null,
   "metadata": {},
   "outputs": [],
   "source": [
    "!k3d cluster delete zenml-kubeflow-715de2b0"
   ]
  },
  {
   "cell_type": "code",
   "execution_count": null,
   "metadata": {
    "scrolled": true
   },
   "outputs": [],
   "source": [
    "!zenml stack up"
   ]
  },
  {
   "cell_type": "markdown",
   "metadata": {},
   "source": [
    "If you scroll down all the way on the previous output you should see a link to your running kubeflow pipelines UI. Most probably this will be at [http://localhost:8080/](http://localhost:8080/). If this does not work, you might want to try this is a seperate shell:\n",
    "\n",
    "```\n",
    "kubectl port-forward -n kubeflow svc/ml-pipeline-ui 8080:80\n",
    "```\n",
    "\n",
    "<div class=\"alert alert-block alert-info\">\n",
    "    <b>Note:</b> Currently running pipelines defined within a jupyter notebook cell is\n",
    "    not supported. To get around this you can run the train pipeline within this repo. \n",
    "</div>"
   ]
  },
  {
   "cell_type": "code",
   "execution_count": null,
   "metadata": {
    "scrolled": true
   },
   "outputs": [],
   "source": [
    "!zenml stack set local_kubeflow_stack\n",
    "# Let's train within kubeflow pipelines - this will deploy the pipeline in a one of manner\n",
    "!python run.py"
   ]
  },
  {
   "cell_type": "code",
   "execution_count": null,
   "metadata": {
    "scrolled": false
   },
   "outputs": [],
   "source": [
    "!zenml stack set local_kubeflow_stack\n",
    "# Let's train within kubeflow pipelines - this will deploy the training pipeline on a Schedule\n",
    "!python run_schedule.py --interval_second 120"
   ]
  },
  {
   "cell_type": "code",
   "execution_count": null,
   "metadata": {},
   "outputs": [],
   "source": [
    "# Do this only if the port forward from `zenml stack up` did not work. \n",
    "!kubectl port-forward -n kubeflow svc/ml-pipeline-ui 8081:80"
   ]
  }
 ],
 "metadata": {
  "kernelspec": {
   "display_name": "Python 3 (ipykernel)",
   "language": "python",
   "name": "python3"
  },
  "language_info": {
   "codemirror_mode": {
    "name": "ipython",
    "version": 3
   },
   "file_extension": ".py",
   "mimetype": "text/x-python",
   "name": "python",
   "nbconvert_exporter": "python",
   "pygments_lexer": "ipython3",
   "version": "3.8.10"
  }
 },
 "nbformat": 4,
 "nbformat_minor": 2
}
