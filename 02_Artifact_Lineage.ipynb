{
 "cells": [
  {
   "cell_type": "markdown",
   "metadata": {},
   "source": [
    "# Lesson 2: Artifact Lineage\n",
    "***Key Concepts:*** *Artifacts, Artifact Stores, Metadata Stores, Versioning, Caching*\n",
    "\n",
    "In this lesson we will learn about one of the coolest features of ML pipelines: automatic artifact versioning and tracking. This will give us tremendous insights into how exactly each of our models was created. Furthermore, it enables automatic artifact caching, such that we can switch out parts of our ML pipelines without needing to rerun any of the prior steps.\n",
    "\n",
    "Before we dive into any of this, let's get clear on what exactly **[Artifacts](https://docs.zenml.io/core-concepts#artifact)** are. To illustrate, let us first rebuild our digits pipeline from the previous chapter:"
   ]
  },
  {
   "cell_type": "code",
   "execution_count": 1,
   "metadata": {},
   "outputs": [],
   "source": [
    "from zenml.pipelines import pipeline\n",
    "\n",
    "from src.steps.importer import importer\n",
    "from src.steps.sklearn_trainer import svc_trainer\n",
    "from src.steps.evaluator import evaluator\n",
    "\n",
    "\n",
    "@pipeline\n",
    "def digits_pipeline(importer, trainer, evaluator):\n",
    "    \"\"\"Links all the steps together in a pipeline\"\"\"\n",
    "    X_train, X_test, y_train, y_test = importer()\n",
    "    model = trainer(X_train=X_train, y_train=y_train)\n",
    "    evaluator(X_test=X_test, y_test=y_test, model=model)"
   ]
  },
  {
   "cell_type": "markdown",
   "metadata": {},
   "source": [
    "The artifacts of this pipeline are simply the local variables we defined: `X_train`, `X_test`, `y_train`, `y_test`, and `model`. These make up the data that flows in and out of our steps. In fact, this data is at the core of our pipelines, and the pipeline definition above just defines which artifact is the input or output of what step."
   ]
  },
  {
   "cell_type": "markdown",
   "metadata": {},
   "source": [
    "## Pipeline Visualization with Dash\n",
    "\n",
    "To visualize how the steps connect the different artifacts, we can view our pipeline with ZenML's [Dash](https://dash.plotly.com/introduction) integration. Run the following code, then open `http://127.0.0.1:8050/` in your browser."
   ]
  },
  {
   "cell_type": "code",
   "execution_count": 2,
   "metadata": {},
   "outputs": [
    {
     "name": "stdout",
     "output_type": "stream",
     "text": [
      "\u001b[2K\u001b[32m⠸\u001b[0m Installing integrations.....Requirement already satisfied: dash>=2.0.0 in /Users/felix/.pyenv/versions/3.8.13/envs/zenbytes/lib/python3.8/site-packages (2.3.1)\n",
      "Requirement already satisfied: dash-cytoscape>=0.3.0 in /Users/felix/.pyenv/versions/3.8.13/envs/zenbytes/lib/python3.8/site-packages (0.3.0)\n",
      "Requirement already satisfied: dash-bootstrap-components>=1.0.1 in /Users/felix/.pyenv/versions/3.8.13/envs/zenbytes/lib/python3.8/site-packages (1.1.0)\n",
      "\u001b[2K\u001b[32m⠼\u001b[0m Installing integrations...Requirement already satisfied: dash-html-components==2.0.0 in /Users/felix/.pyenv/versions/3.8.13/envs/zenbytes/lib/python3.8/site-packages (from dash>=2.0.0) (2.0.0)\n",
      "Requirement already satisfied: Flask>=1.0.4 in /Users/felix/.pyenv/versions/3.8.13/envs/zenbytes/lib/python3.8/site-packages (from dash>=2.0.0) (2.1.2)\n",
      "Requirement already satisfied: dash-core-components==2.0.0 in /Users/felix/.pyenv/versions/3.8.13/envs/zenbytes/lib/python3.8/site-packages (from dash>=2.0.0) (2.0.0)\n",
      "Requirement already satisfied: flask-compress in /Users/felix/.pyenv/versions/3.8.13/envs/zenbytes/lib/python3.8/site-packages (from dash>=2.0.0) (1.12)\n",
      "Requirement already satisfied: plotly>=5.0.0 in /Users/felix/.pyenv/versions/3.8.13/envs/zenbytes/lib/python3.8/site-packages (from dash>=2.0.0) (5.7.0)\n",
      "Requirement already satisfied: dash-table==5.0.0 in /Users/felix/.pyenv/versions/3.8.13/envs/zenbytes/lib/python3.8/site-packages (from dash>=2.0.0) (5.0.0)\n",
      "Requirement already satisfied: importlib-metadata>=3.6.0 in /Users/felix/.pyenv/versions/3.8.13/envs/zenbytes/lib/python3.8/site-packages (from Flask>=1.0.4->dash>=2.0.0) (4.11.3)\n",
      "Requirement already satisfied: Jinja2>=3.0 in /Users/felix/.pyenv/versions/3.8.13/envs/zenbytes/lib/python3.8/site-packages (from Flask>=1.0.4->dash>=2.0.0) (3.1.2)\n",
      "Requirement already satisfied: itsdangerous>=2.0 in /Users/felix/.pyenv/versions/3.8.13/envs/zenbytes/lib/python3.8/site-packages (from Flask>=1.0.4->dash>=2.0.0) (2.1.2)\n",
      "Requirement already satisfied: click>=8.0 in /Users/felix/.pyenv/versions/3.8.13/envs/zenbytes/lib/python3.8/site-packages (from Flask>=1.0.4->dash>=2.0.0) (8.1.3)\n",
      "Requirement already satisfied: Werkzeug>=2.0 in /Users/felix/.pyenv/versions/3.8.13/envs/zenbytes/lib/python3.8/site-packages (from Flask>=1.0.4->dash>=2.0.0) (2.1.2)\n",
      "Requirement already satisfied: six in /Users/felix/.pyenv/versions/3.8.13/envs/zenbytes/lib/python3.8/site-packages (from plotly>=5.0.0->dash>=2.0.0) (1.16.0)\n",
      "Requirement already satisfied: tenacity>=6.2.0 in /Users/felix/.pyenv/versions/3.8.13/envs/zenbytes/lib/python3.8/site-packages (from plotly>=5.0.0->dash>=2.0.0) (8.0.1)\n",
      "Requirement already satisfied: brotli in /Users/felix/.pyenv/versions/3.8.13/envs/zenbytes/lib/python3.8/site-packages (from flask-compress->dash>=2.0.0) (1.0.9)\n",
      "Requirement already satisfied: zipp>=0.5 in /Users/felix/.pyenv/versions/3.8.13/envs/zenbytes/lib/python3.8/site-packages (from importlib-metadata>=3.6.0->Flask>=1.0.4->dash>=2.0.0) (3.8.0)\n",
      "Requirement already satisfied: MarkupSafe>=2.0 in /Users/felix/.pyenv/versions/3.8.13/envs/zenbytes/lib/python3.8/site-packages (from Jinja2>=3.0->Flask>=1.0.4->dash>=2.0.0) (2.1.1)\n",
      "\u001b[2K\u001b[32m⠹\u001b[0m Installing integrations...\n",
      "\u001b[1A\u001b[2K"
     ]
    }
   ],
   "source": [
    "!zenml integration install dash -f"
   ]
  },
  {
   "cell_type": "code",
   "execution_count": 5,
   "metadata": {},
   "outputs": [
    {
     "name": "stdout",
     "output_type": "stream",
     "text": [
      "\u001b[1;35mCreating run for pipeline: `\u001b[0m\u001b[33;21mdigits_pipeline`\u001b[1;35m\u001b[0m\n",
      "\u001b[1;35mCache enabled for pipeline `\u001b[0m\u001b[33;21mdigits_pipeline`\u001b[1;35m\u001b[0m\n"
     ]
    }
   ],
   "source": [
    "digits_svc_pipeline = digits_pipeline(\n",
    "    importer=importer(), trainer=svc_trainer(), evaluator=evaluator()\n",
    ")\n",
    "digits_svc_pipeline.run()"
   ]
  },
  {
   "cell_type": "code",
   "execution_count": 4,
   "metadata": {},
   "outputs": [
    {
     "name": "stdout",
     "output_type": "stream",
     "text": [
      "\u001b[1;35mDash is running on http://127.0.0.1:8050/\n",
      "\u001b[0m\n",
      "Dash is running on http://127.0.0.1:8050/\n",
      "\n",
      " * Serving Flask app 'zenml.integrations.dash.visualizers.pipeline_run_lineage_visualizer' (lazy loading)\n",
      " * Environment: production\n",
      "\u001b[31m   WARNING: This is a development server. Do not use it in a production deployment.\u001b[0m\n",
      "\u001b[2m   Use a production WSGI server instead.\u001b[0m\n",
      " * Debug mode: off\n"
     ]
    },
    {
     "name": "stderr",
     "output_type": "stream",
     "text": [
      "INFO:werkzeug: * Running on http://127.0.0.1:8050 (Press CTRL+C to quit)\n",
      "INFO:werkzeug:127.0.0.1 - - [05/May/2022 17:48:49] \"GET / HTTP/1.1\" 200 -\n",
      "INFO:werkzeug:127.0.0.1 - - [05/May/2022 17:48:49] \"GET /_dash-component-suites/dash_cytoscape/dash_cytoscape.v0_2_0m1651759559.min.js HTTP/1.1\" 200 -\n",
      "INFO:werkzeug:127.0.0.1 - - [05/May/2022 17:48:49] \"GET /_dash-component-suites/dash/dcc/dash_core_components.v2_3_0m1651759558.js HTTP/1.1\" 200 -\n",
      "INFO:werkzeug:127.0.0.1 - - [05/May/2022 17:48:50] \"GET /_dash-dependencies HTTP/1.1\" 200 -\n",
      "INFO:werkzeug:127.0.0.1 - - [05/May/2022 17:48:50] \"GET /_dash-layout HTTP/1.1\" 200 -\n",
      "INFO:werkzeug:127.0.0.1 - - [05/May/2022 17:48:50] \"\u001b[36mGET /_dash-component-suites/dash/dcc/async-markdown.js HTTP/1.1\u001b[0m\" 304 -\n",
      "INFO:werkzeug:127.0.0.1 - - [05/May/2022 17:48:50] \"POST /_dash-update-component HTTP/1.1\" 200 -\n",
      "INFO:werkzeug:127.0.0.1 - - [05/May/2022 17:48:50] \"POST /_dash-update-component HTTP/1.1\" 200 -\n",
      "INFO:werkzeug:127.0.0.1 - - [05/May/2022 17:48:50] \"\u001b[36mGET /_dash-component-suites/dash/dcc/async-highlight.js HTTP/1.1\u001b[0m\" 304 -\n"
     ]
    },
    {
     "data": {
      "text/plain": [
       "<dash.dash.Dash at 0x157f0c970>"
      ]
     },
     "execution_count": 4,
     "metadata": {},
     "output_type": "execute_result"
    }
   ],
   "source": [
    "from zenml.integrations.dash.visualizers.pipeline_run_lineage_visualizer import (\n",
    "    PipelineRunLineageVisualizer,\n",
    ")\n",
    "from zenml.repository import Repository\n",
    "\n",
    "repo = Repository()\n",
    "latest_run = repo.get_pipeline(\"digits_pipeline\").runs[-1]\n",
    "PipelineRunLineageVisualizer().visualize(latest_run)"
   ]
  },
  {
   "cell_type": "markdown",
   "metadata": {},
   "source": [
    "You should now see an interactive visualization in your browser as shown below. Squares represent your artifacts, circles your pipeline steps. Also note that the different nodes are color coded, so if your pipeline ever fails or runs for too long, you can find the responsible step at a glance!\n",
    "\n",
    "![Dash Visualization](_assets/02_Artifact_Lineage/dash_initial.png)"
   ]
  },
  {
   "cell_type": "markdown",
   "metadata": {},
   "source": [
    "## Artifact Caching\n",
    "As mentioned in the beginning, tracking which exact artifact went into what steps also allows us to cache and reuse artifacts. Let's this in action:\n",
    "First, stop the execution of the previous notebook cell in case it is still running. Then, execute the next cell to rerun our pipeline and visualize it with dash again."
   ]
  },
  {
   "cell_type": "code",
   "execution_count": 6,
   "metadata": {},
   "outputs": [
    {
     "name": "stdout",
     "output_type": "stream",
     "text": [
      "\u001b[1;35mUsing stack `\u001b[0m\u001b[33;21mdefault`\u001b[1;35m to run pipeline `\u001b[0m\u001b[33;21mdigits_pipeline`\u001b[1;35m...\u001b[0m\n",
      "\u001b[1;35mStep `\u001b[0m\u001b[33;21mimporter`\u001b[1;35m has started.\u001b[0m\n",
      "\u001b[1;35mUsing cached version of `\u001b[0m\u001b[33;21mimporter`\u001b[1;35m [`\u001b[0m\u001b[33;21mimporter`\u001b[1;35m].\u001b[0m\n",
      "\u001b[1;35mStep `\u001b[0m\u001b[33;21mimporter`\u001b[1;35m has finished in 0.023s.\u001b[0m\n",
      "\u001b[1;35mStep `\u001b[0m\u001b[33;21msvc_trainer`\u001b[1;35m has started.\u001b[0m\n",
      "\u001b[1;35mUsing cached version of `\u001b[0m\u001b[33;21msvc_trainer`\u001b[1;35m [`\u001b[0m\u001b[33;21mtrainer`\u001b[1;35m].\u001b[0m\n",
      "\u001b[1;35mStep `\u001b[0m\u001b[33;21msvc_trainer`\u001b[1;35m has finished in 0.025s.\u001b[0m\n",
      "\u001b[1;35mStep `\u001b[0m\u001b[33;21mevaluator`\u001b[1;35m has started.\u001b[0m\n",
      "\u001b[1;35mUsing cached version of `\u001b[0m\u001b[33;21mevaluator`\u001b[1;35m [`\u001b[0m\u001b[33;21mevaluator`\u001b[1;35m].\u001b[0m\n",
      "\u001b[1;35mStep `\u001b[0m\u001b[33;21mevaluator`\u001b[1;35m has finished in 0.028s.\u001b[0m\n",
      "\u001b[1;35mPipeline run `\u001b[0m\u001b[33;21mdigits_pipeline-05_May_22-18_11_34_624043`\u001b[1;35m has finished in 0.091s.\u001b[0m\n",
      "\u001b[1;35mDash is running on http://127.0.0.1:8050/\n",
      "\u001b[0m\n",
      "Dash is running on http://127.0.0.1:8050/\n",
      "\n",
      "Dash is running on http://127.0.0.1:8050/\n",
      "\n",
      " * Serving Flask app 'zenml.integrations.dash.visualizers.pipeline_run_lineage_visualizer' (lazy loading)\n",
      " * Environment: production\n",
      "\u001b[31m   WARNING: This is a development server. Do not use it in a production deployment.\u001b[0m\n",
      "\u001b[2m   Use a production WSGI server instead.\u001b[0m\n",
      " * Debug mode: off\n"
     ]
    },
    {
     "name": "stderr",
     "output_type": "stream",
     "text": [
      "INFO:werkzeug: * Running on http://127.0.0.1:8050 (Press CTRL+C to quit)\n",
      "INFO:werkzeug:127.0.0.1 - - [05/May/2022 18:11:43] \"GET / HTTP/1.1\" 200 -\n",
      "INFO:werkzeug:127.0.0.1 - - [05/May/2022 18:11:43] \"GET /_dash-layout HTTP/1.1\" 200 -\n",
      "INFO:werkzeug:127.0.0.1 - - [05/May/2022 18:11:43] \"GET /_dash-dependencies HTTP/1.1\" 200 -\n",
      "INFO:werkzeug:127.0.0.1 - - [05/May/2022 18:11:43] \"\u001b[36mGET /_dash-component-suites/dash/dcc/async-markdown.js HTTP/1.1\u001b[0m\" 304 -\n",
      "INFO:werkzeug:127.0.0.1 - - [05/May/2022 18:11:43] \"POST /_dash-update-component HTTP/1.1\" 200 -\n",
      "INFO:werkzeug:127.0.0.1 - - [05/May/2022 18:11:43] \"POST /_dash-update-component HTTP/1.1\" 200 -\n",
      "INFO:werkzeug:127.0.0.1 - - [05/May/2022 18:11:43] \"\u001b[36mGET /_dash-component-suites/dash/dcc/async-highlight.js HTTP/1.1\u001b[0m\" 304 -\n",
      "INFO:werkzeug:127.0.0.1 - - [05/May/2022 18:11:54] \"GET /_dash-layout HTTP/1.1\" 200 -\n",
      "INFO:werkzeug:127.0.0.1 - - [05/May/2022 18:11:54] \"GET /_dash-dependencies HTTP/1.1\" 200 -\n",
      "INFO:werkzeug:127.0.0.1 - - [05/May/2022 18:11:54] \"\u001b[36mGET /_dash-component-suites/dash/dcc/async-markdown.js HTTP/1.1\u001b[0m\" 304 -\n",
      "INFO:werkzeug:127.0.0.1 - - [05/May/2022 18:11:54] \"POST /_dash-update-component HTTP/1.1\" 200 -\n",
      "INFO:werkzeug:127.0.0.1 - - [05/May/2022 18:11:54] \"POST /_dash-update-component HTTP/1.1\" 200 -\n",
      "INFO:werkzeug:127.0.0.1 - - [05/May/2022 18:11:54] \"\u001b[36mGET /_dash-component-suites/dash/dcc/async-highlight.js HTTP/1.1\u001b[0m\" 304 -\n"
     ]
    },
    {
     "data": {
      "text/plain": [
       "<dash.dash.Dash at 0x157efd6a0>"
      ]
     },
     "execution_count": 6,
     "metadata": {},
     "output_type": "execute_result"
    }
   ],
   "source": [
    "digits_svc_pipeline.run()\n",
    "latest_run = repo.get_pipeline(\"digits_pipeline\").runs[-1]\n",
    "PipelineRunLineageVisualizer().visualize(latest_run)"
   ]
  },
  {
   "cell_type": "markdown",
   "metadata": {},
   "source": [
    "You should now see a visualization as shown below. Note that the color of all nodes in the graph changed to green now. This means they were still cached from our previous run.\n",
    "\n",
    "![Dash Visualization Cached](_assets/02_Artifact_Lineage/dash_cached.png)\n",
    "\n",
    "Let's now replace the SVC model in our ML pipeline with a decision tree and see what happens."
   ]
  },
  {
   "cell_type": "code",
   "execution_count": 8,
   "metadata": {},
   "outputs": [
    {
     "name": "stdout",
     "output_type": "stream",
     "text": [
      "\u001b[1;35mCreating run for pipeline: `\u001b[0m\u001b[33;21mdigits_pipeline`\u001b[1;35m\u001b[0m\n",
      "\u001b[1;35mCache enabled for pipeline `\u001b[0m\u001b[33;21mdigits_pipeline`\u001b[1;35m\u001b[0m\n",
      "\u001b[1;35mUsing stack `\u001b[0m\u001b[33;21mdefault`\u001b[1;35m to run pipeline `\u001b[0m\u001b[33;21mdigits_pipeline`\u001b[1;35m...\u001b[0m\n",
      "\u001b[1;35mStep `\u001b[0m\u001b[33;21mimporter`\u001b[1;35m has started.\u001b[0m\n",
      "\u001b[1;35mUsing cached version of `\u001b[0m\u001b[33;21mimporter`\u001b[1;35m [`\u001b[0m\u001b[33;21mimporter`\u001b[1;35m].\u001b[0m\n",
      "\u001b[1;35mStep `\u001b[0m\u001b[33;21mimporter`\u001b[1;35m has finished in 0.023s.\u001b[0m\n",
      "\u001b[1;35mStep `\u001b[0m\u001b[33;21mtree_trainer`\u001b[1;35m has started.\u001b[0m\n",
      "\u001b[1;35mStep `\u001b[0m\u001b[33;21mtree_trainer`\u001b[1;35m has finished in 0.048s.\u001b[0m\n",
      "\u001b[1;35mStep `\u001b[0m\u001b[33;21mevaluator`\u001b[1;35m has started.\u001b[0m\n",
      "Test accuracy: 0.7697441601779755\n",
      "\u001b[1;35mStep `\u001b[0m\u001b[33;21mevaluator`\u001b[1;35m has finished in 0.042s.\u001b[0m\n",
      "\u001b[1;35mPipeline run `\u001b[0m\u001b[33;21mdigits_pipeline-05_May_22-18_23_02_752560`\u001b[1;35m has finished in 0.128s.\u001b[0m\n",
      "\u001b[1;35mDash is running on http://127.0.0.1:8050/\n",
      "\u001b[0m\n",
      "Dash is running on http://127.0.0.1:8050/\n",
      "\n",
      "Dash is running on http://127.0.0.1:8050/\n",
      "\n",
      "Dash is running on http://127.0.0.1:8050/\n",
      "\n",
      "Dash is running on http://127.0.0.1:8050/\n",
      "\n",
      " * Serving Flask app 'zenml.integrations.dash.visualizers.pipeline_run_lineage_visualizer' (lazy loading)\n",
      " * Environment: production\n",
      "\u001b[31m   WARNING: This is a development server. Do not use it in a production deployment.\u001b[0m\n",
      "\u001b[2m   Use a production WSGI server instead.\u001b[0m\n",
      " * Debug mode: off\n"
     ]
    },
    {
     "name": "stderr",
     "output_type": "stream",
     "text": [
      "INFO:werkzeug: * Running on http://127.0.0.1:8050 (Press CTRL+C to quit)\n",
      "INFO:werkzeug:127.0.0.1 - - [05/May/2022 18:23:05] \"GET / HTTP/1.1\" 200 -\n",
      "INFO:werkzeug:127.0.0.1 - - [05/May/2022 18:23:05] \"GET /_dash-layout HTTP/1.1\" 200 -\n",
      "INFO:werkzeug:127.0.0.1 - - [05/May/2022 18:23:05] \"GET /_dash-dependencies HTTP/1.1\" 200 -\n",
      "INFO:werkzeug:127.0.0.1 - - [05/May/2022 18:23:05] \"GET /_favicon.ico?v=2.3.1 HTTP/1.1\" 200 -\n",
      "INFO:werkzeug:127.0.0.1 - - [05/May/2022 18:23:05] \"\u001b[36mGET /_dash-component-suites/dash/dcc/async-markdown.js HTTP/1.1\u001b[0m\" 304 -\n",
      "INFO:werkzeug:127.0.0.1 - - [05/May/2022 18:23:05] \"POST /_dash-update-component HTTP/1.1\" 200 -\n",
      "INFO:werkzeug:127.0.0.1 - - [05/May/2022 18:23:05] \"POST /_dash-update-component HTTP/1.1\" 200 -\n",
      "INFO:werkzeug:127.0.0.1 - - [05/May/2022 18:23:05] \"\u001b[36mGET /_dash-component-suites/dash/dcc/async-highlight.js HTTP/1.1\u001b[0m\" 304 -\n"
     ]
    },
    {
     "data": {
      "text/plain": [
       "<dash.dash.Dash at 0x156f51c70>"
      ]
     },
     "execution_count": 8,
     "metadata": {},
     "output_type": "execute_result"
    }
   ],
   "source": [
    "import numpy as np\n",
    "from sklearn.base import ClassifierMixin\n",
    "from sklearn.tree import DecisionTreeClassifier\n",
    "from zenml.steps import step\n",
    "\n",
    "\n",
    "@step(enable_cache=False)\n",
    "def tree_trainer(\n",
    "    X_train: np.ndarray,\n",
    "    y_train: np.ndarray,\n",
    ") -> ClassifierMixin:\n",
    "    \"\"\"Train an sklearn decision tree classifier.\"\"\"\n",
    "    model = DecisionTreeClassifier()\n",
    "    model.fit(X_train, y_train)\n",
    "    return model\n",
    "\n",
    "\n",
    "# redefine and rerun our pipeline, this time with tree_trainer()\n",
    "digits_tree_pipeline = digits_pipeline(\n",
    "    importer=importer(), trainer=tree_trainer(), evaluator=evaluator()\n",
    ")\n",
    "digits_tree_pipeline.run()\n",
    "\n",
    "latest_run = repo.get_pipeline(\"digits_pipeline\").runs[-1]\n",
    "PipelineRunLineageVisualizer().visualize(latest_run)"
   ]
  },
  {
   "cell_type": "markdown",
   "metadata": {},
   "source": [
    "The visualization should now look as shown below. Since we changed the trainer, the corresponding node and all subsequent nodes are now blue again, meaning they were rerun and the artifacts were freshly created. However, note how the input data artifacts are still green. They did not have to be recreated. In a real production setting this might save us a tremendous amount of time and resources as those data artifacts might have been the result of some complex, expensive preprocessing job.\n",
    "\n",
    "![Dash Visualization Partly Cached](_assets/02_Artifact_Lineage/dash_partly_cached.png)\n"
   ]
  },
  {
   "cell_type": "markdown",
   "metadata": {},
   "source": []
  }
 ],
 "metadata": {
  "interpreter": {
   "hash": "9f70ec6e6bd16014ded89c8222361cbe53cd9507d51ebdcdf3ab6e494d45cf74"
  },
  "kernelspec": {
   "display_name": "Python 3.8.13 64-bit ('zenbytes')",
   "language": "python",
   "name": "python3"
  },
  "language_info": {
   "codemirror_mode": {
    "name": "ipython",
    "version": 3
   },
   "file_extension": ".py",
   "mimetype": "text/x-python",
   "name": "python",
   "nbconvert_exporter": "python",
   "pygments_lexer": "ipython3",
   "version": "3.8.13"
  },
  "orig_nbformat": 4
 },
 "nbformat": 4,
 "nbformat_minor": 2
}
