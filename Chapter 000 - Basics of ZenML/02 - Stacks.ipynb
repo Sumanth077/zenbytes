{
 "cells": [
  {
   "cell_type": "markdown",
   "metadata": {},
   "source": [
    "# ZenML: Open-source MLOps Framework for reproducible ML pipelines"
   ]
  },
  {
   "cell_type": "markdown",
   "metadata": {},
   "source": [
    "![Test](../_assets/Logo/zenml.svg)"
   ]
  },
  {
   "cell_type": "markdown",
   "metadata": {},
   "source": [
    "![Sam](../_assets/sam.png)"
   ]
  },
  {
   "cell_type": "code",
   "execution_count": null,
   "metadata": {},
   "outputs": [],
   "source": [
    "from absl import logging as absl_logging\n",
    "import warnings\n",
    "warnings.filterwarnings('ignore')\n",
    "%load_ext autoreload\n",
    "%autoreload 2\n",
    "absl_logging.set_verbosity(-10000)"
   ]
  },
  {
   "cell_type": "markdown",
   "metadata": {},
   "source": [
    "Let's begin by initializing ZenML in our directory. We are going to use a local stack to begin with, for simplicity and then transition to other stacks. This can be achieved in code by executing the following block."
   ]
  },
  {
   "cell_type": "markdown",
   "metadata": {},
   "source": [
    "# Initialize ZenML"
   ]
  },
  {
   "cell_type": "code",
   "execution_count": null,
   "metadata": {
    "scrolled": true
   },
   "outputs": [],
   "source": [
    "!zenml init"
   ]
  },
  {
   "cell_type": "markdown",
   "metadata": {},
   "source": [
    "## The ZenML stack\n",
    "\n",
    "The ZenML stack is a concept that describes the union of Metadata Store, Artifact Store and Orchestrator that will be used for all pipeline runs. When you get started with zenml you start off with a default local stack."
   ]
  },
  {
   "cell_type": "code",
   "execution_count": 1,
   "metadata": {},
   "outputs": [
    {
     "name": "stdout",
     "output_type": "stream",
     "text": [
      "┏━━━━━━━━┯━━━━━━━━━━━┯━━━━━━━━━━━┯━━━━━━━━━━━┯━━━━━━━━━━┯━━━━━━━━━━━┯━━━━━━━━━━┓\r\n",
      "┃\u001b[1m        \u001b[0m│\u001b[1m \u001b[0m\u001b[1mSTACK    \u001b[0m\u001b[1m \u001b[0m│\u001b[1m           \u001b[0m│\u001b[1m           \u001b[0m│\u001b[1m          \u001b[0m│\u001b[1m           \u001b[0m│\u001b[1m          \u001b[0m┃\r\n",
      "┃\u001b[1m \u001b[0m\u001b[1mACTIVE\u001b[0m\u001b[1m \u001b[0m│\u001b[1m \u001b[0m\u001b[1mNAME     \u001b[0m\u001b[1m \u001b[0m│\u001b[1m \u001b[0m\u001b[1mORCHESTR…\u001b[0m\u001b[1m \u001b[0m│\u001b[1m \u001b[0m\u001b[1mMETADATA…\u001b[0m\u001b[1m \u001b[0m│\u001b[1m \u001b[0m\u001b[1mARTIFAC…\u001b[0m\u001b[1m \u001b[0m│\u001b[1m \u001b[0m\u001b[1mCONTAINE…\u001b[0m\u001b[1m \u001b[0m│\u001b[1m \u001b[0m\u001b[1mSTEP_OP…\u001b[0m\u001b[1m \u001b[0m┃\r\n",
      "┠────────┼───────────┼───────────┼───────────┼──────────┼───────────┼──────────┨\r\n",
      "┃   👉   │ local_st… │ local_or… │ local_me… │ local_a… │           │          ┃\r\n",
      "┗━━━━━━━━┷━━━━━━━━━━━┷━━━━━━━━━━━┷━━━━━━━━━━━┷━━━━━━━━━━┷━━━━━━━━━━━┷━━━━━━━━━━┛\r\n"
     ]
    }
   ],
   "source": [
    "!zenml stack list"
   ]
  },
  {
   "cell_type": "markdown",
   "metadata": {},
   "source": [
    "### The Local Stack\n",
    "\n",
    "You can imagine the local stack to look like this. Within the diagram we show how a generic pipeline interacts with the local stack.\n",
    "\n",
    "![LocalStack](../_assets/localstack.png \"LocalStack\")"
   ]
  },
  {
   "cell_type": "code",
   "execution_count": 13,
   "metadata": {},
   "outputs": [
    {
     "name": "stdout",
     "output_type": "stream",
     "text": [
      "\u001b[2K\u001b[2;36mActive stack: local_stack\u001b[0mto `local_stack`.....\n",
      "\u001b[2K\u001b[32m⠇\u001b[0m Setting the active stack to `local_stack`...`local_stack`...\u001b[0m\n",
      "\u001b[1A\u001b[2K\u001b[1;35mCreating run for pipeline: `\u001b[0m\u001b[33;21mcontinuous_deployment_pipeline`\u001b[1;35m\u001b[0m\n",
      "\u001b[1;35mCache disabled for pipeline `\u001b[0m\u001b[33;21mcontinuous_deployment_pipeline`\u001b[1;35m\u001b[0m\n",
      "\u001b[1;35mUsing stack `\u001b[0m\u001b[33;21mlocal_stack`\u001b[1;35m to run pipeline `\u001b[0m\u001b[33;21mcontinuous_deployment_pipeline`\u001b[1;35m...\u001b[0m\n",
      "\u001b[1;35mStep `\u001b[0m\u001b[33;21mimporter`\u001b[1;35m has started.\u001b[0m\n",
      "\u001b[1;35mStep `\u001b[0m\u001b[33;21mimporter`\u001b[1;35m has finished in 0.112s.\u001b[0m\n",
      "\u001b[1;35mStep `\u001b[0m\u001b[33;21mget_reference_data`\u001b[1;35m has started.\u001b[0m\n",
      "\u001b[1;35mStep `\u001b[0m\u001b[33;21mget_reference_data`\u001b[1;35m has finished in 0.094s.\u001b[0m\n",
      "\u001b[1;35mStep `\u001b[0m\u001b[33;21msvc_trainer_mlflow`\u001b[1;35m has started.\u001b[0m\n",
      "E0319 02:34:14.886944556   12498 fork_posix.cc:70]           Fork support is only compatible with the epoll1 and poll polling strategies\n",
      "E0319 02:34:14.899501217   12498 fork_posix.cc:70]           Fork support is only compatible with the epoll1 and poll polling strategies\n",
      "E0319 02:34:14.911337993   12498 fork_posix.cc:70]           Fork support is only compatible with the epoll1 and poll polling strategies\n",
      "2022/03/19 02:34:15 WARNING mlflow.utils.autologging_utils: MLflow autologging encountered a warning: \"/home/htahir1/.virtualenvs/zenml_active/lib/python3.8/site-packages/sklearn/utils/deprecation.py:87: FutureWarning: Function plot_confusion_matrix is deprecated; Function `plot_confusion_matrix` is deprecated in 1.0 and will be removed in 1.2. Use one of the class methods: ConfusionMatrixDisplay.from_predictions or ConfusionMatrixDisplay.from_estimator.\"\n",
      "E0319 02:34:16.138598552   12498 fork_posix.cc:70]           Fork support is only compatible with the epoll1 and poll polling strategies\n",
      "\u001b[1;35mStep `\u001b[0m\u001b[33;21msvc_trainer_mlflow`\u001b[1;35m has finished in 2.738s.\u001b[0m\n",
      "\u001b[1;35mStep `\u001b[0m\u001b[33;21mEvidentlyProfileStep`\u001b[1;35m has started.\u001b[0m\n",
      "\u001b[1;35mStep `\u001b[0m\u001b[33;21mEvidentlyProfileStep`\u001b[1;35m has finished in 1.217s.\u001b[0m\n",
      "\u001b[1;35mStep `\u001b[0m\u001b[33;21mevaluator`\u001b[1;35m has started.\u001b[0m\n",
      "Test accuracy: 0.9688542825361512\n",
      "\u001b[1;35mStep `\u001b[0m\u001b[33;21mevaluator`\u001b[1;35m has finished in 0.117s.\u001b[0m\n",
      "\u001b[1;35mStep `\u001b[0m\u001b[33;21mdeployment_trigger`\u001b[1;35m has started.\u001b[0m\n",
      "\u001b[1;35mStep `\u001b[0m\u001b[33;21mdeployment_trigger`\u001b[1;35m has finished in 0.081s.\u001b[0m\n",
      "\u001b[1;35mStep `\u001b[0m\u001b[33;21mdiscord_alert`\u001b[1;35m has started.\u001b[0m\n",
      "Posted to discord successfully, code 204.\n",
      "Drift detected\n",
      "\u001b[1;35mStep `\u001b[0m\u001b[33;21mdiscord_alert`\u001b[1;35m has finished in 1.195s.\u001b[0m\n",
      "\u001b[1;35mStep `\u001b[0m\u001b[33;21mmodel_deployer`\u001b[1;35m has started.\u001b[0m\n",
      "\u001b[1;35mStep `\u001b[0m\u001b[33;21mmodel_deployer`\u001b[1;35m has finished in 0.751s.\u001b[0m\n",
      "\u001b[1;35mPipeline run `\u001b[0m\u001b[33;21mcontinuous_deployment_pipeline-19_Mar_22-02_34_14_555653`\u001b[1;35m has finished in 6.333s.\u001b[0m\n"
     ]
    }
   ],
   "source": [
    "!zenml stack set local_stack\n",
    "# Let's train within kubeflow pipelines - this will deploy the training pipeline on a Schedule\n",
    "!python run.py"
   ]
  },
  {
   "cell_type": "markdown",
   "metadata": {},
   "source": [
    "We will now use the Kubeflow integration to extend the concept of stacks"
   ]
  },
  {
   "cell_type": "markdown",
   "metadata": {},
   "source": [
    "![All](../_assets/evidently+mlflow+discord+kubeflow.png \"All\")"
   ]
  },
  {
   "cell_type": "code",
   "execution_count": 14,
   "metadata": {
    "scrolled": true
   },
   "outputs": [
    {
     "name": "stdout",
     "output_type": "stream",
     "text": [
      "\u001b[2K\u001b[32m⠸\u001b[0m Installing integrations...Requirement already satisfied: kfp==1.8.9 in /home/htahir1/.virtualenvs/zenml_active/lib/python3.8/site-packages (1.8.9)\n",
      "Requirement already satisfied: typing-extensions<4,>=3.7.4 in /home/htahir1/.virtualenvs/zenml_active/lib/python3.8/site-packages (from kfp==1.8.9) (3.10.0.2)\n",
      "Requirement already satisfied: typer<1.0,>=0.3.2 in /home/htahir1/.virtualenvs/zenml_active/lib/python3.8/site-packages (from kfp==1.8.9) (0.4.0)\n",
      "Requirement already satisfied: kfp-pipeline-spec<0.2.0,>=0.1.13 in /home/htahir1/.virtualenvs/zenml_active/lib/python3.8/site-packages (from kfp==1.8.9) (0.1.13)\n",
      "Requirement already satisfied: google-api-python-client<2,>=1.7.8 in /home/htahir1/.virtualenvs/zenml_active/lib/python3.8/site-packages (from kfp==1.8.9) (1.12.11)\n",
      "Requirement already satisfied: absl-py<=0.11,>=0.9 in /home/htahir1/.virtualenvs/zenml_active/lib/python3.8/site-packages (from kfp==1.8.9) (0.11.0)\n",
      "Requirement already satisfied: tabulate<1,>=0.8.6 in /home/htahir1/.virtualenvs/zenml_active/lib/python3.8/site-packages (from kfp==1.8.9) (0.8.9)\n",
      "Requirement already satisfied: fire<1,>=0.3.1 in /home/htahir1/.virtualenvs/zenml_active/lib/python3.8/site-packages (from kfp==1.8.9) (0.4.0)\n",
      "Requirement already satisfied: click<9,>=7.1.2 in /home/htahir1/.virtualenvs/zenml_active/lib/python3.8/site-packages (from kfp==1.8.9) (8.0.4)\n",
      "Requirement already satisfied: pydantic<2,>=1.8.2 in /home/htahir1/.virtualenvs/zenml_active/lib/python3.8/site-packages (from kfp==1.8.9) (1.9.0)\n",
      "Requirement already satisfied: jsonschema<4,>=3.0.1 in /home/htahir1/.virtualenvs/zenml_active/lib/python3.8/site-packages (from kfp==1.8.9) (3.2.0)\n",
      "Requirement already satisfied: PyYAML<6,>=5.3 in /home/htahir1/.virtualenvs/zenml_active/lib/python3.8/site-packages (from kfp==1.8.9) (5.4.1)\n",
      "Requirement already satisfied: uritemplate<4,>=3.0.1 in /home/htahir1/.virtualenvs/zenml_active/lib/python3.8/site-packages (from kfp==1.8.9) (3.0.1)\n",
      "Requirement already satisfied: cloudpickle<3,>=2.0.0 in /home/htahir1/.virtualenvs/zenml_active/lib/python3.8/site-packages (from kfp==1.8.9) (2.0.0)\n",
      "Requirement already satisfied: Deprecated<2,>=1.2.7 in /home/htahir1/.virtualenvs/zenml_active/lib/python3.8/site-packages (from kfp==1.8.9) (1.2.13)\n",
      "Requirement already satisfied: docstring-parser<1,>=0.7.3 in /home/htahir1/.virtualenvs/zenml_active/lib/python3.8/site-packages (from kfp==1.8.9) (0.13)\n",
      "Requirement already satisfied: kubernetes<19,>=8.0.0 in /home/htahir1/.virtualenvs/zenml_active/lib/python3.8/site-packages (from kfp==1.8.9) (18.20.0)\n",
      "Requirement already satisfied: requests-toolbelt<1,>=0.8.0 in /home/htahir1/.virtualenvs/zenml_active/lib/python3.8/site-packages (from kfp==1.8.9) (0.9.1)\n",
      "Requirement already satisfied: protobuf<4,>=3.13.0 in /home/htahir1/.virtualenvs/zenml_active/lib/python3.8/site-packages (from kfp==1.8.9) (3.19.4)\n",
      "Requirement already satisfied: strip-hints<1,>=0.1.8 in /home/htahir1/.virtualenvs/zenml_active/lib/python3.8/site-packages (from kfp==1.8.9) (0.1.10)\n",
      "Requirement already satisfied: kfp-server-api<2.0.0,>=1.1.2 in /home/htahir1/.virtualenvs/zenml_active/lib/python3.8/site-packages (from kfp==1.8.9) (1.8.1)\n",
      "Requirement already satisfied: google-cloud-storage<2,>=1.20.0 in /home/htahir1/.virtualenvs/zenml_active/lib/python3.8/site-packages (from kfp==1.8.9) (1.44.0)\n",
      "Requirement already satisfied: google-auth<2,>=1.6.1 in /home/htahir1/.virtualenvs/zenml_active/lib/python3.8/site-packages (from kfp==1.8.9) (1.35.0)\n",
      "Requirement already satisfied: six in /home/htahir1/.virtualenvs/zenml_active/lib/python3.8/site-packages (from absl-py<=0.11,>=0.9->kfp==1.8.9) (1.16.0)\n",
      "Requirement already satisfied: wrapt<2,>=1.10 in /home/htahir1/.virtualenvs/zenml_active/lib/python3.8/site-packages (from Deprecated<2,>=1.2.7->kfp==1.8.9) (1.14.0)\n",
      "Requirement already satisfied: termcolor in /home/htahir1/.virtualenvs/zenml_active/lib/python3.8/site-packages (from fire<1,>=0.3.1->kfp==1.8.9) (1.1.0)\n",
      "Requirement already satisfied: google-api-core<3dev,>=1.21.0 in /home/htahir1/.virtualenvs/zenml_active/lib/python3.8/site-packages (from google-api-python-client<2,>=1.7.8->kfp==1.8.9) (2.7.1)\n",
      "Requirement already satisfied: google-auth-httplib2>=0.0.3 in /home/htahir1/.virtualenvs/zenml_active/lib/python3.8/site-packages (from google-api-python-client<2,>=1.7.8->kfp==1.8.9) (0.1.0)\n",
      "Requirement already satisfied: httplib2<1dev,>=0.15.0 in /home/htahir1/.virtualenvs/zenml_active/lib/python3.8/site-packages (from google-api-python-client<2,>=1.7.8->kfp==1.8.9) (0.19.1)\n",
      "Requirement already satisfied: setuptools>=40.3.0 in /home/htahir1/.virtualenvs/zenml_active/lib/python3.8/site-packages (from google-auth<2,>=1.6.1->kfp==1.8.9) (60.9.3)\n",
      "Requirement already satisfied: pyasn1-modules>=0.2.1 in /home/htahir1/.virtualenvs/zenml_active/lib/python3.8/site-packages (from google-auth<2,>=1.6.1->kfp==1.8.9) (0.2.8)\n",
      "Requirement already satisfied: rsa<5,>=3.1.4 in /home/htahir1/.virtualenvs/zenml_active/lib/python3.8/site-packages (from google-auth<2,>=1.6.1->kfp==1.8.9) (4.8)\n",
      "Requirement already satisfied: cachetools<5.0,>=2.0.0 in /home/htahir1/.virtualenvs/zenml_active/lib/python3.8/site-packages (from google-auth<2,>=1.6.1->kfp==1.8.9) (4.2.4)\n",
      "Requirement already satisfied: requests<3.0.0dev,>=2.18.0 in /home/htahir1/.virtualenvs/zenml_active/lib/python3.8/site-packages (from google-cloud-storage<2,>=1.20.0->kfp==1.8.9) (2.27.1)\n",
      "Requirement already satisfied: google-resumable-media<3.0dev,>=1.3.0 in /home/htahir1/.virtualenvs/zenml_active/lib/python3.8/site-packages (from google-cloud-storage<2,>=1.20.0->kfp==1.8.9) (2.3.2)\n",
      "Requirement already satisfied: google-cloud-core<3.0dev,>=1.6.0 in /home/htahir1/.virtualenvs/zenml_active/lib/python3.8/site-packages (from google-cloud-storage<2,>=1.20.0->kfp==1.8.9) (2.2.3)\n",
      "\u001b[2K\u001b[32m⠼\u001b[0m Installing integrations...Requirement already satisfied: pyrsistent>=0.14.0 in /home/htahir1/.virtualenvs/zenml_active/lib/python3.8/site-packages (from jsonschema<4,>=3.0.1->kfp==1.8.9) (0.18.1)\n",
      "Requirement already satisfied: attrs>=17.4.0 in /home/htahir1/.virtualenvs/zenml_active/lib/python3.8/site-packages (from jsonschema<4,>=3.0.1->kfp==1.8.9) (20.3.0)\n",
      "Requirement already satisfied: certifi in /home/htahir1/.virtualenvs/zenml_active/lib/python3.8/site-packages (from kfp-server-api<2.0.0,>=1.1.2->kfp==1.8.9) (2021.10.8)\n",
      "Requirement already satisfied: python-dateutil in /home/htahir1/.virtualenvs/zenml_active/lib/python3.8/site-packages (from kfp-server-api<2.0.0,>=1.1.2->kfp==1.8.9) (2.8.2)\n",
      "Requirement already satisfied: urllib3>=1.15 in /home/htahir1/.virtualenvs/zenml_active/lib/python3.8/site-packages (from kfp-server-api<2.0.0,>=1.1.2->kfp==1.8.9) (1.26.9)\n",
      "Requirement already satisfied: websocket-client!=0.40.0,!=0.41.*,!=0.42.*,>=0.32.0 in /home/htahir1/.virtualenvs/zenml_active/lib/python3.8/site-packages (from kubernetes<19,>=8.0.0->kfp==1.8.9) (1.3.1)\n",
      "Requirement already satisfied: requests-oauthlib in /home/htahir1/.virtualenvs/zenml_active/lib/python3.8/site-packages (from kubernetes<19,>=8.0.0->kfp==1.8.9) (1.3.1)\n",
      "Requirement already satisfied: wheel in /home/htahir1/.virtualenvs/zenml_active/lib/python3.8/site-packages (from strip-hints<1,>=0.1.8->kfp==1.8.9) (0.37.1)\n",
      "Requirement already satisfied: googleapis-common-protos<2.0dev,>=1.52.0 in /home/htahir1/.virtualenvs/zenml_active/lib/python3.8/site-packages (from google-api-core<3dev,>=1.21.0->google-api-python-client<2,>=1.7.8->kfp==1.8.9) (1.56.0)\n",
      "Requirement already satisfied: google-crc32c<2.0dev,>=1.0 in /home/htahir1/.virtualenvs/zenml_active/lib/python3.8/site-packages (from google-resumable-media<3.0dev,>=1.3.0->google-cloud-storage<2,>=1.20.0->kfp==1.8.9) (1.3.0)\n",
      "Requirement already satisfied: pyparsing<3,>=2.4.2 in /home/htahir1/.virtualenvs/zenml_active/lib/python3.8/site-packages (from httplib2<1dev,>=0.15.0->google-api-python-client<2,>=1.7.8->kfp==1.8.9) (2.4.7)\n",
      "\u001b[2K\u001b[32m⠴\u001b[0m Installing integrations...Requirement already satisfied: pyasn1<0.5.0,>=0.4.6 in /home/htahir1/.virtualenvs/zenml_active/lib/python3.8/site-packages (from pyasn1-modules>=0.2.1->google-auth<2,>=1.6.1->kfp==1.8.9) (0.4.8)\n",
      "Requirement already satisfied: charset-normalizer~=2.0.0 in /home/htahir1/.virtualenvs/zenml_active/lib/python3.8/site-packages (from requests<3.0.0dev,>=2.18.0->google-cloud-storage<2,>=1.20.0->kfp==1.8.9) (2.0.12)\n",
      "Requirement already satisfied: idna<4,>=2.5 in /home/htahir1/.virtualenvs/zenml_active/lib/python3.8/site-packages (from requests<3.0.0dev,>=2.18.0->google-cloud-storage<2,>=1.20.0->kfp==1.8.9) (3.3)\n"
     ]
    },
    {
     "name": "stdout",
     "output_type": "stream",
     "text": [
      "Requirement already satisfied: oauthlib>=3.0.0 in /home/htahir1/.virtualenvs/zenml_active/lib/python3.8/site-packages (from requests-oauthlib->kubernetes<19,>=8.0.0->kfp==1.8.9) (3.2.0)\n",
      "\u001b[2K\u001b[32m⠼\u001b[0m Installing integrations...\n",
      "\u001b[1A\u001b[2K"
     ]
    }
   ],
   "source": [
    "!zenml integration install kubeflow -f"
   ]
  },
  {
   "cell_type": "markdown",
   "metadata": {},
   "source": [
    "### The Kubeflow Pipeline stack\n",
    "\n",
    "Now we want to transition to a kubeflow stack that will look a little bit like this. Note that for kubeflow pipelines we also need a registry where the docker images for each step are registered. \n",
    "\n",
    "![KubeflowStack](../_assets/localstack-with-kubeflow-orchestrator.png \"KubeflowStack\")\n",
    "\n",
    "But we have good news! You barely have to do anything to transition."
   ]
  },
  {
   "cell_type": "code",
   "execution_count": null,
   "metadata": {},
   "outputs": [
    {
     "name": "stdout",
     "output_type": "stream",
     "text": [
      "\u001b[1;35mRegistered stack component with name 'local_registry'.\u001b[0m\r\n",
      "\u001b[2;36mSuccessfully registered container registry `local_registry`.\u001b[0m\r\n"
     ]
    }
   ],
   "source": [
    "# You register a container registry with zenml\n",
    "!zenml container-registry register local_registry --type=default --uri=localhost:5000\n",
    "    \n",
    "# You register an orchestrator with zenml\n",
    "!zenml orchestrator register kubeflow_orchestrator --type=kubeflow\n",
    "\n",
    "# Now it all is combined into the local_kubeflow_stack\n",
    "!zenml stack register local_kubeflow_stack \\\n",
    "    -m local_metadata_store \\\n",
    "    -a local_artifact_store \\\n",
    "    -o kubeflow_orchestrator \\\n",
    "    -c local_registry\n",
    "\n",
    "# And we activate the new stack, now all pipelines will be run within this stack\n",
    "!zenml stack set local_kubeflow_stack\n",
    "\n",
    "# Check it out, your new stack is registered\n",
    "!zenml stack list!zenml stack set local_kubeflow_stack\n",
    "# Let's train within kubeflow pipelines - this will deploy the training pipeline on a Schedule\n",
    "!python run_pipeline.py train"
   ]
  },
  {
   "cell_type": "markdown",
   "metadata": {},
   "source": [
    "### Starting up your new kubeflow pipelines stack\n",
    "\n",
    "All that is left to do is power up your stack. This is just one more line away. The stack up process might take some time for you. In the background k3d will be creating and starting up a cluster of docker containers to host kubeflow pipelines locally. "
   ]
  },
  {
   "cell_type": "code",
   "execution_count": null,
   "metadata": {},
   "outputs": [],
   "source": [
    "!zenml stack up"
   ]
  },
  {
   "cell_type": "markdown",
   "metadata": {},
   "source": [
    "If you scroll down all the way on the previous output you should see a link to your running kubeflow pipelines UI. Most probably this will be at [http://localhost:8080/](http://localhost:8080/).\n",
    "\n",
    "<div class=\"alert alert-block alert-info\">\n",
    "    <b>Note:</b> Currently running pipelines defined within a jupyter notebook cell is\n",
    "    not supported. To get around this you can run the train pipeline within this repo. \n",
    "</div>"
   ]
  },
  {
   "cell_type": "code",
   "execution_count": null,
   "metadata": {},
   "outputs": [],
   "source": [
    "!zenml stack set local_kubeflow_stack\n",
    "# Let's train within kubeflow pipelines - this will deploy the training pipeline on a Schedule\n",
    "!python run_pipeline.py train"
   ]
  }
 ],
 "metadata": {
  "kernelspec": {
   "display_name": "Python 3 (ipykernel)",
   "language": "python",
   "name": "python3"
  },
  "language_info": {
   "codemirror_mode": {
    "name": "ipython",
    "version": 3
   },
   "file_extension": ".py",
   "mimetype": "text/x-python",
   "name": "python",
   "nbconvert_exporter": "python",
   "pygments_lexer": "ipython3",
   "version": "3.8.10"
  }
 },
 "nbformat": 4,
 "nbformat_minor": 2
}
